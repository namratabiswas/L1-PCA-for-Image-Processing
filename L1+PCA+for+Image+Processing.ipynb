{
 "cells": [
  {
   "cell_type": "code",
   "execution_count": 86,
   "metadata": {
    "collapsed": false
   },
   "outputs": [],
   "source": [
    "import pandas as pd\n",
    "import numpy as np\n",
    "import matplotlib.pyplot as plt\n",
    "from sklearn.decomposition import PCA\n",
    "import matplotlib.patches as mpatches\n",
    "import numpy.linalg as LA\n",
    "%matplotlib inline"
   ]
  },
  {
   "cell_type": "code",
   "execution_count": 87,
   "metadata": {
    "collapsed": false
   },
   "outputs": [],
   "source": [
    "x_load = np.load('C:\\Users\\Namrata\\Desktop\\ITU\\Fall_2018\\Capstone\\sign-language-digits-dataset\\X.npy')\n",
    "y_load = np.load('C:\\Users\\Namrata\\Desktop\\ITU\\Fall_2018\\Capstone\\sign-language-digits-dataset\\Y.npy')\n",
    "img_size = 64\n"
   ]
  },
  {
   "cell_type": "code",
   "execution_count": 88,
   "metadata": {
    "collapsed": true
   },
   "outputs": [],
   "source": [
    "def distort_images(image_data, image_index_list, distortion_type=None):\n",
    "    \n",
    "    image_set = image_data.copy()\n",
    "    \n",
    "    for idx in range(len(image_index_list)):\n",
    "        \n",
    "        ii = image_index_list[idx]\n",
    "        \n",
    "        if distortion_type == None:\n",
    "            return image_set\n",
    "        \n",
    "        elif distortion_type == 'high':\n",
    "            test_img = image_set[ii] \n",
    "            test_img[test_img < 0.5] = 0.0\n",
    "            image_set[ii] = test_img\n",
    "            \n",
    "        elif distortion_type == 'low':\n",
    "            test_img = image_set[ii]\n",
    "            test_img[test_img > 0.75] = 1.0\n",
    "            image_set[ii] = test_img            \n",
    "    \n",
    "    return image_set\n",
    "        "
   ]
  },
  {
   "cell_type": "markdown",
   "metadata": {},
   "source": [
    "## Get images for number 3 and 1"
   ]
  },
  {
   "cell_type": "code",
   "execution_count": 89,
   "metadata": {
    "collapsed": false
   },
   "outputs": [],
   "source": [
    "# For 3\n",
    "index_for_three = [0,1,2,3,4,5,6,7,8,9]\n",
    "dist_x_load_3 = distort_images(x_load, index_for_three , 'high')"
   ]
  },
  {
   "cell_type": "code",
   "execution_count": 90,
   "metadata": {
    "collapsed": false
   },
   "outputs": [],
   "source": [
    "# For 1\n",
    "index_for_one =  [900,901,902,903,904,905,906,907,908,909]\n",
    "dist_x_load_1 = distort_images(x_load, index_for_one, 'high')"
   ]
  },
  {
   "cell_type": "code",
   "execution_count": 91,
   "metadata": {
    "collapsed": true
   },
   "outputs": [],
   "source": [
    "X_1 = dist_x_load_1.reshape(dist_x_load_1.shape[0], dist_x_load_1.shape[1]*dist_x_load_1.shape[2]).copy()"
   ]
  },
  {
   "cell_type": "code",
   "execution_count": 92,
   "metadata": {
    "collapsed": true
   },
   "outputs": [],
   "source": [
    "X_3 = dist_x_load_3.reshape(dist_x_load_3.shape[0], dist_x_load_3.shape[1]*dist_x_load_3.shape[2]).copy()"
   ]
  },
  {
   "cell_type": "markdown",
   "metadata": {},
   "source": [
    "### Examples of image samples"
   ]
  },
  {
   "cell_type": "code",
   "execution_count": 93,
   "metadata": {
    "collapsed": true
   },
   "outputs": [],
   "source": [
    "def plot_an_example_image(X, image_index):\n",
    "    # Example of number 1\n",
    "    plt.figure(figsize=(6, 5))\n",
    "\n",
    "    for ii in range(image_index, image_index+1):\n",
    "        comp = X[ii,:]\n",
    "        vmax = max(comp.max(), -comp.min())\n",
    "        plt.imshow(comp.reshape((64,64 )),interpolation='nearest',vmin=-vmax, vmax=vmax)\n",
    "        plt.xticks(())\n",
    "        plt.yticks(())\n",
    "        \n",
    "    plt.show()"
   ]
  },
  {
   "cell_type": "code",
   "execution_count": 94,
   "metadata": {
    "collapsed": false
   },
   "outputs": [
    {
     "data": {
      "image/png": "[encoded data removed]",
      "text/plain": [
       "<matplotlib.figure.Figure at 0x18c23710>"
      ]
     },
     "metadata": {},
     "output_type": "display_data"
    }
   ],
   "source": [
    "plot_an_example_image(X_1, 906)"
   ]
  },
  {
   "cell_type": "code",
   "execution_count": 64,
   "metadata": {
    "collapsed": false
   },
   "outputs": [
    {
     "data": {
      "image/png": "[encoded data removed]",
      "text/plain": [
       "<matplotlib.figure.Figure at 0x18ec6e80>"
      ]
     },
     "metadata": {},
     "output_type": "display_data"
    }
   ],
   "source": [
    "plot_an_example_image(X_3, 4)"
   ]
  },
  {
   "cell_type": "markdown",
   "metadata": {},
   "source": [
    "## Compute $L_2$ PCA"
   ]
  },
  {
   "cell_type": "code",
   "execution_count": 95,
   "metadata": {
    "collapsed": true
   },
   "outputs": [],
   "source": [
    "def compute_pca_L2(X, K, image_index):\n",
    "    n_components = 4\n",
    "    X_pca = X[image_index,:]\n",
    "    estimator = PCA(n_components=n_components, svd_solver='randomized', whiten=True)\n",
    "    estimator.fit(X_pca)\n",
    "    components_ = estimator.components_\n",
    "    pca_L2 = components_[:n_components]\n",
    "    return pca_L2\n",
    "    "
   ]
  },
  {
   "cell_type": "code",
   "execution_count": 96,
   "metadata": {
    "collapsed": true
   },
   "outputs": [],
   "source": [
    "pca_L2_for_3 = compute_pca_L2(X_3, 6, index_for_three)"
   ]
  },
  {
   "cell_type": "code",
   "execution_count": 97,
   "metadata": {
    "collapsed": true
   },
   "outputs": [],
   "source": [
    "pca_L2_for_1 = compute_pca_L2(X_1, 6, index_for_one)"
   ]
  },
  {
   "cell_type": "markdown",
   "metadata": {},
   "source": [
    "### Project images on lower dimensional subspace"
   ]
  },
  {
   "cell_type": "code",
   "execution_count": 98,
   "metadata": {
    "collapsed": true
   },
   "outputs": [],
   "source": [
    "pca_projected_L2_for_3 = np.dot(np.dot(X_3[index_for_three], pca_L2_for_3.T), pca_L2_for_3)\n",
    "pca_projected_L2_for_1 = np.dot(np.dot(X_1[index_for_one], pca_L2_for_1.T), pca_L2_for_1)\n",
    "#pca_projected_L2_dist = np.dot(np.dot(dist_X_old[0:20],pca_L2_dist.T), components_)"
   ]
  },
  {
   "cell_type": "code",
   "execution_count": 99,
   "metadata": {
    "collapsed": false
   },
   "outputs": [
    {
     "data": {
      "text/plain": [
       "(10L, 4096L)"
      ]
     },
     "execution_count": 99,
     "metadata": {},
     "output_type": "execute_result"
    }
   ],
   "source": [
    "pca_projected_L2_for_1.shape"
   ]
  },
  {
   "cell_type": "code",
   "execution_count": 100,
   "metadata": {
    "collapsed": false
   },
   "outputs": [
    {
     "data": {
      "text/plain": [
       "(4L, 4096L)"
      ]
     },
     "execution_count": 100,
     "metadata": {},
     "output_type": "execute_result"
    }
   ],
   "source": [
    "pca_L2_for_3.shape"
   ]
  },
  {
   "cell_type": "code",
   "execution_count": 101,
   "metadata": {
    "collapsed": false
   },
   "outputs": [
    {
     "data": {
      "image/png": "[encoded data removed]",
      "text/plain": [
       "<matplotlib.figure.Figure at 0x18e2d0f0>"
      ]
     },
     "metadata": {},
     "output_type": "display_data"
    }
   ],
   "source": [
    "plot_an_example_image(pca_projected_L2_for_3, 4)"
   ]
  },
  {
   "cell_type": "code",
   "execution_count": 102,
   "metadata": {
    "collapsed": false
   },
   "outputs": [
    {
     "data": {
      "image/png": "[encoded data removed]",
      "text/plain": [
       "<matplotlib.figure.Figure at 0x1894e0b8>"
      ]
     },
     "metadata": {},
     "output_type": "display_data"
    }
   ],
   "source": [
    "plot_an_example_image(pca_projected_L2_for_1, 4)"
   ]
  },
  {
   "cell_type": "code",
   "execution_count": 103,
   "metadata": {
    "collapsed": false
   },
   "outputs": [],
   "source": [
    "# # Get pca L2\n",
    "# n_components = 4\n",
    "# X = X_old[0:9,:]\n",
    "# (n_samples, n_features) = X.shape\n",
    "# estimator = PCA(n_components=n_components, svd_solver='randomized', whiten=True)\n",
    "# estimator.fit(X)\n",
    "# components_ = estimator.components_\n",
    "# pca_L2 = components_[:n_components]"
   ]
  },
  {
   "cell_type": "code",
   "execution_count": 104,
   "metadata": {
    "collapsed": false
   },
   "outputs": [],
   "source": [
    "# Visualiz3 subspace\n",
    "\n",
    "# plt.figure(figsize=(6, 5))\n",
    "# for i, comp in enumerate(pca_L2):\n",
    "#     vmax = max(comp.max(), -comp.min())\n",
    "#     plt.imshow(comp.reshape((64, 64)),interpolation='nearest',vmin=-vmax, vmax=vmax)\n",
    "#     plt.xticks(())\n",
    "#     plt.yticks(())\n",
    "# plt.savefig('graph.png')\n",
    "# plt.show()"
   ]
  },
  {
   "cell_type": "code",
   "execution_count": null,
   "metadata": {
    "collapsed": false
   },
   "outputs": [],
   "source": [
    "# n_components = 4\n",
    "# X_dist = dist_X_old[0:9,:]\n",
    "# #(n_samples, n_features) = X.shape\n",
    "# estimator = PCA(n_components=n_components, svd_solver='randomized', whiten=True)\n",
    "# estimator.fit(X_dist)\n",
    "# components_ = estimator.components_\n",
    "# pca_L2_dist = components_[:n_components]"
   ]
  },
  {
   "cell_type": "code",
   "execution_count": null,
   "metadata": {
    "collapsed": false
   },
   "outputs": [],
   "source": [
    "# plt.figure(figsize=(6, 5))\n",
    "# for i, comp in enumerate(pca_L2_dist):\n",
    "#     vmax = max(comp.max(), -comp.min())\n",
    "#     plt.imshow(comp.reshape((64, 64)),interpolation='nearest',vmin=-vmax, vmax=vmax)\n",
    "#     plt.xticks(())\n",
    "#     plt.yticks(())\n",
    "# plt.savefig('graph.png')\n",
    "# plt.show()"
   ]
  },
  {
   "cell_type": "code",
   "execution_count": 75,
   "metadata": {
    "collapsed": false
   },
   "outputs": [
    {
     "ename": "NameError",
     "evalue": "name 'dist_X_old' is not defined",
     "output_type": "error",
     "traceback": [
      "\u001b[0;31m---------------------------------------------------------------------------\u001b[0m",
      "\u001b[0;31mNameError\u001b[0m                                 Traceback (most recent call last)",
      "\u001b[0;32m<ipython-input-75-d9a11fe351a1>\u001b[0m in \u001b[0;36m<module>\u001b[0;34m()\u001b[0m\n\u001b[1;32m      2\u001b[0m \u001b[1;33m\u001b[0m\u001b[0m\n\u001b[1;32m      3\u001b[0m \u001b[1;32mfor\u001b[0m \u001b[0mii\u001b[0m \u001b[1;32min\u001b[0m \u001b[0mrange\u001b[0m\u001b[1;33m(\u001b[0m\u001b[1;36m3\u001b[0m\u001b[1;33m,\u001b[0m\u001b[1;36m4\u001b[0m\u001b[1;33m)\u001b[0m\u001b[1;33m:\u001b[0m\u001b[1;33m\u001b[0m\u001b[0m\n\u001b[0;32m----> 4\u001b[0;31m     \u001b[0mcomp\u001b[0m \u001b[1;33m=\u001b[0m \u001b[0mdist_X_old\u001b[0m\u001b[1;33m[\u001b[0m\u001b[0mii\u001b[0m\u001b[1;33m,\u001b[0m\u001b[1;33m:\u001b[0m\u001b[1;33m]\u001b[0m\u001b[1;33m\u001b[0m\u001b[0m\n\u001b[0m\u001b[1;32m      5\u001b[0m     \u001b[0mvmax\u001b[0m \u001b[1;33m=\u001b[0m \u001b[0mmax\u001b[0m\u001b[1;33m(\u001b[0m\u001b[0mcomp\u001b[0m\u001b[1;33m.\u001b[0m\u001b[0mmax\u001b[0m\u001b[1;33m(\u001b[0m\u001b[1;33m)\u001b[0m\u001b[1;33m,\u001b[0m \u001b[1;33m-\u001b[0m\u001b[0mcomp\u001b[0m\u001b[1;33m.\u001b[0m\u001b[0mmin\u001b[0m\u001b[1;33m(\u001b[0m\u001b[1;33m)\u001b[0m\u001b[1;33m)\u001b[0m\u001b[1;33m\u001b[0m\u001b[0m\n\u001b[1;32m      6\u001b[0m     \u001b[0mplt\u001b[0m\u001b[1;33m.\u001b[0m\u001b[0mimshow\u001b[0m\u001b[1;33m(\u001b[0m\u001b[0mcomp\u001b[0m\u001b[1;33m.\u001b[0m\u001b[0mreshape\u001b[0m\u001b[1;33m(\u001b[0m\u001b[1;33m(\u001b[0m\u001b[1;36m64\u001b[0m\u001b[1;33m,\u001b[0m \u001b[1;36m64\u001b[0m\u001b[1;33m)\u001b[0m\u001b[1;33m)\u001b[0m\u001b[1;33m,\u001b[0m\u001b[0minterpolation\u001b[0m\u001b[1;33m=\u001b[0m\u001b[1;34m'nearest'\u001b[0m\u001b[1;33m,\u001b[0m\u001b[0mvmin\u001b[0m\u001b[1;33m=\u001b[0m\u001b[1;33m-\u001b[0m\u001b[0mvmax\u001b[0m\u001b[1;33m,\u001b[0m \u001b[0mvmax\u001b[0m\u001b[1;33m=\u001b[0m\u001b[0mvmax\u001b[0m\u001b[1;33m)\u001b[0m\u001b[1;33m\u001b[0m\u001b[0m\n",
      "\u001b[0;31mNameError\u001b[0m: name 'dist_X_old' is not defined"
     ]
    },
    {
     "data": {
      "text/plain": [
       "<matplotlib.figure.Figure at 0x18eb3eb8>"
      ]
     },
     "metadata": {},
     "output_type": "display_data"
    }
   ],
   "source": [
    "plt.figure(figsize=(6, 5))\n",
    "\n",
    "for ii in range(3,4):\n",
    "    comp = dist_X_old[ii,:]\n",
    "    vmax = max(comp.max(), -comp.min())\n",
    "    plt.imshow(comp.reshape((64, 64)),interpolation='nearest',vmin=-vmax, vmax=vmax)\n",
    "    plt.xticks(())\n",
    "    plt.yticks(())\n",
    "#plt.savefig('graph.png')\n",
    "plt.show()"
   ]
  },
  {
   "cell_type": "markdown",
   "metadata": {},
   "source": [
    "## Sub-optimal $L_1$ PCA"
   ]
  },
  {
   "cell_type": "code",
   "execution_count": 105,
   "metadata": {
    "collapsed": true
   },
   "outputs": [],
   "source": [
    "# Sgn function\n",
    "def to_binary(x):\n",
    "    return np.where(x > 0.0, 1, -1)"
   ]
  },
  {
   "cell_type": "code",
   "execution_count": 106,
   "metadata": {
    "collapsed": true
   },
   "outputs": [],
   "source": [
    "# For inner iteration to compute single sub-optiinal L1 PCA\n",
    "def single_sub_optimal(b, X, num_iter):\n",
    "    counter = 0\n",
    "\n",
    "    while counter <= num_iter:\n",
    "        b = to_binary(np.dot(np.dot(X.T, X), b))\n",
    "        counter = counter + 1\n",
    "        #print (counter, num_iter)\n",
    "    \n",
    "    print ('# of iterations: ', num_iter)\n",
    "    \n",
    "    return b"
   ]
  },
  {
   "cell_type": "code",
   "execution_count": 107,
   "metadata": {
    "collapsed": true
   },
   "outputs": [],
   "source": [
    "# Multiple sub-optimal L1 PCA\n",
    "def multiple_sub_optimal(X_org, K):\n",
    "    \n",
    "    R = np.zeros((X_org.shape[0], K))\n",
    "    X = X_org.copy()\n",
    "    \n",
    "    for k in range(K):\n",
    "        # Different initialization per componenet\n",
    "        b = np.random.randn(X.shape[1],1)\n",
    "        b_ini = to_binary(b)\n",
    "        # Find sub-optimal b\n",
    "        b = single_sub_optimal(b_ini, X, 50)\n",
    "        #Find sub-optimal single L1-PCA\n",
    "        r_not_normal = np.dot(X, b)\n",
    "        r_normal = r_not_normal/LA.norm(r_not_normal)\n",
    "        # Store the vector\n",
    "        R[:, [k]] = r_normal\n",
    "        # Update X\n",
    "        X = X - np.dot(np.dot(r_normal, r_normal.T),X)\n",
    "    \n",
    "    return R"
   ]
  },
  {
   "cell_type": "code",
   "execution_count": 108,
   "metadata": {
    "collapsed": false
   },
   "outputs": [
    {
     "name": "stdout",
     "output_type": "stream",
     "text": [
      "('# of iterations: ', 50)\n",
      "('# of iterations: ', 50)\n",
      "('# of iterations: ', 50)\n",
      "('# of iterations: ', 50)\n",
      "('# of iterations: ', 50)\n",
      "('# of iterations: ', 50)\n"
     ]
    }
   ],
   "source": [
    "R_1 = multiple_sub_optimal(X_1[index_for_one].T,6)"
   ]
  },
  {
   "cell_type": "code",
   "execution_count": 109,
   "metadata": {
    "collapsed": false
   },
   "outputs": [
    {
     "name": "stdout",
     "output_type": "stream",
     "text": [
      "('# of iterations: ', 50)\n",
      "('# of iterations: ', 50)\n",
      "('# of iterations: ', 50)\n",
      "('# of iterations: ', 50)\n",
      "('# of iterations: ', 50)\n",
      "('# of iterations: ', 50)\n"
     ]
    }
   ],
   "source": [
    "R_3 = multiple_sub_optimal(X_3[index_for_three].T,6)"
   ]
  },
  {
   "cell_type": "markdown",
   "metadata": {
    "collapsed": false
   },
   "source": [
    "### Projection of images on to L1 subspace"
   ]
  },
  {
   "cell_type": "code",
   "execution_count": 110,
   "metadata": {
    "collapsed": true
   },
   "outputs": [],
   "source": [
    "pca_projected_L1_for_1 = np.dot(np.dot(X_1[index_for_one], R_1), R_1.T)\n",
    "pca_projected_L1_for_3 = np.dot(np.dot(X_3[index_for_three], R_3), R_3.T)"
   ]
  },
  {
   "cell_type": "markdown",
   "metadata": {
    "collapsed": false
   },
   "source": []
  },
  {
   "cell_type": "code",
   "execution_count": 111,
   "metadata": {
    "collapsed": false
   },
   "outputs": [
    {
     "data": {
      "image/png": "[encoded data removed]",
      "text/plain": [
       "<matplotlib.figure.Figure at 0x18e3ef28>"
      ]
     },
     "metadata": {},
     "output_type": "display_data"
    }
   ],
   "source": [
    "plot_an_example_image(pca_projected_L1_for_1, 4)"
   ]
  },
  {
   "cell_type": "code",
   "execution_count": 112,
   "metadata": {
    "collapsed": false
   },
   "outputs": [
    {
     "data": {
      "image/png": "[encoded data removed]",
      "text/plain": [
       "<matplotlib.figure.Figure at 0x1898d860>"
      ]
     },
     "metadata": {},
     "output_type": "display_data"
    }
   ],
   "source": [
    "plot_an_example_image(pca_projected_L1_for_3, 4)"
   ]
  },
  {
   "cell_type": "code",
   "execution_count": null,
   "metadata": {
    "collapsed": true
   },
   "outputs": [],
   "source": []
  },
  {
   "cell_type": "code",
   "execution_count": null,
   "metadata": {
    "collapsed": true
   },
   "outputs": [],
   "source": [
    "b_ini = np.random.randn(X.shape[1],1)"
   ]
  },
  {
   "cell_type": "code",
   "execution_count": null,
   "metadata": {
    "collapsed": false
   },
   "outputs": [],
   "source": [
    "b = single_sub_optimal(b_ini, X, 3)"
   ]
  },
  {
   "cell_type": "code",
   "execution_count": null,
   "metadata": {
    "collapsed": true
   },
   "outputs": [],
   "source": []
  },
  {
   "cell_type": "code",
   "execution_count": null,
   "metadata": {
    "collapsed": false
   },
   "outputs": [],
   "source": [
    "n_components = 10\n",
    "(n_samples, n_features) = X.shape\n",
    "estimator = decomposition.PCA(n_components=n_components, svd_solver='randomized', whiten=True)\n",
    "estimator.fit(X)\n",
    "components_ = estimator.components_\n",
    "images = components_[:n_components]\n",
    "plt.figure(figsize=(6, 5))\n",
    "for i, comp in enumerate(images):\n",
    "    vmax = max(comp.max(), -comp.min())\n",
    "    plt.imshow(comp.reshape((64, 64)),interpolation='nearest',vmin=-vmax, vmax=vmax)\n",
    "    plt.xticks(())\n",
    "    plt.yticks(())\n",
    "plt.savefig('graph.png')\n",
    "plt.show()"
   ]
  },
  {
   "cell_type": "code",
   "execution_count": null,
   "metadata": {
    "collapsed": false
   },
   "outputs": [],
   "source": [
    "#def RandomNoise(x_noisy):\n",
    "#x_noisy = x_load + 3 * x_load.std() * np.random.random(x_load.shape)\n",
    "x_noisy = x_load + 0.1  * np.random.random(x_load.shape)\n"
   ]
  },
  {
   "cell_type": "code",
   "execution_count": null,
   "metadata": {
    "collapsed": false
   },
   "outputs": [],
   "source": [
    "# one sample from each digits\n",
    "image_index_list = [260,900,1800,1600,1400,2061,700,500,1111,100]\n",
    "for each in range(10):\n",
    "    plt.figure(figsize=(8,5))\n",
    "    plt.imshow(x_noisy[image_index_list[each]].reshape(img_size, img_size))\n",
    "    plt.axis('off')\n",
    "    title = \"Sign \" + str(each) \n",
    "    plt.title(title)\n",
    "plt.show()"
   ]
  },
  {
   "cell_type": "code",
   "execution_count": null,
   "metadata": {
    "collapsed": false
   },
   "outputs": [],
   "source": [
    "X = x_noisy.reshape((len(x_noisy), -1)) \n",
    "train = X\n",
    "test = X[image_index_list]\n",
    "n_pixels = X.shape[1]\n",
    "# Upper half of the faces\n",
    "X_train = train[:, :(n_pixels + 1) // 2]\n",
    "X_test = test[:, :(n_pixels + 1) // 2]\n",
    "# Lower half of the faces\n",
    "y_train = train[:, n_pixels // 2:]\n",
    "y_test = test[:, n_pixels // 2:]\n",
    "print(X_train.shape)\n",
    "print(y_train.shape)\n",
    "print(X_test.shape)\n",
    "print(y_test.shape)"
   ]
  },
  {
   "cell_type": "code",
   "execution_count": null,
   "metadata": {
    "collapsed": false
   },
   "outputs": [],
   "source": [
    "n_components = 5\n",
    "(n_samples, n_features) = X.shape\n",
    "estimator = decomposition.PCA(n_components=n_components, svd_solver='randomized', whiten=True)\n",
    "estimator.fit(X)\n",
    "components_ = estimator.components_\n",
    "images = components_[:n_components]\n",
    "plt.figure(figsize=(6, 5))\n",
    "for i, comp in enumerate(images):\n",
    "    vmax = max(comp.max(), -comp.min())\n",
    "    plt.imshow(comp.reshape((64, 64)),interpolation='nearest',vmin=-vmax, vmax=vmax)\n",
    "    plt.xticks(())\n",
    "    plt.yticks(())\n",
    "plt.savefig('graph.png')\n",
    "plt.show()"
   ]
  }
 ],
 "metadata": {
  "kernelspec": {
   "display_name": "Python 2",
   "language": "python",
   "name": "python2"
  },
  "language_info": {
   "codemirror_mode": {
    "name": "ipython",
    "version": 2
   },
   "file_extension": ".py",
   "mimetype": "text/x-python",
   "name": "python",
   "nbconvert_exporter": "python",
   "pygments_lexer": "ipython2",
   "version": "2.7.13"
  }
 },
 "nbformat": 4,
 "nbformat_minor": 2
}
